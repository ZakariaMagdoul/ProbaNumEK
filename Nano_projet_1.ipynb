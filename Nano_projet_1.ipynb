{
 "cells": [
  {
   "cell_type": "markdown",
   "metadata": {},
   "source": [
    "### Pricing d'un Call asiatique - Variable de Controle de Kemna-Vorst (Sans Dividendes)"
   ]
  },
  {
   "cell_type": "code",
   "execution_count": 1,
   "metadata": {},
   "outputs": [],
   "source": [
    "#Importation des librairies que j'utilise dans le Notebook\n",
    "import numpy as np\n",
    "import random as rd\n",
    "from math import sqrt , log , exp \n",
    "import scipy.stats as sps"
   ]
  },
  {
   "cell_type": "code",
   "execution_count": 2,
   "metadata": {},
   "outputs": [],
   "source": [
    "#parametres du probleme\n",
    "sigma = 1 #volatilité du sous-jacent\n",
    "T = 1 #maturite de l'option\n",
    "s = 10 #prix initiale du sous jacent\n",
    "r = 0.05 #taux d'interet sans risque , supposé constant :)\n",
    "K = 5 # Strike du call asiatique"
   ]
  },
  {
   "cell_type": "code",
   "execution_count": 3,
   "metadata": {},
   "outputs": [],
   "source": [
    "# Simulatation d'une discretisation sur un horizon fini de la trajectoire d'un MB Par Decomposition de Cholesky\n",
    "def Brownian_simulator(t): # t vecteur des instant ti ou on veut simuler notre trajectoire bronienne\n",
    "    n=len(t)\n",
    "    L = np.tri(n, n, k=0)  \n",
    "    D =np.eye(n)\n",
    "    D[0,0] = np.sqrt(t[0])\n",
    "    for i in range(1,n):\n",
    "        D[i,i] =  np.sqrt(t[i] - t[i-1])\n",
    "\n",
    "\n",
    "    T =L@D # T est la matrice de la decomposition de cholesky de la cov de W_t1,..tn\n",
    "\n",
    "    #Simulation d'un n-vecteur gaussien de matrice de variance-covariance = I_n\n",
    "    def Box_muller():\n",
    "        U1, U2 = rd.random(), rd.random()  \n",
    "        Z0 = np.sqrt(-2 * np.log(U1)) * np.cos(2 * np.pi * U2)  \n",
    "        Z1 = np.sqrt(-2 * np.log(U1)) * np.sin(2 * np.pi * U2)  \n",
    "        return Z0, Z1\n",
    "\n",
    "    Z = []\n",
    "    d = n + n%2\n",
    "    for i in range(d//2):\n",
    "        a,b = Box_muller()\n",
    "        Z.append(a)\n",
    "        Z.append(b)\n",
    "    if n%2 == 1:\n",
    "        Z.pop()\n",
    "    Z = np.array(Z)\n",
    "\n",
    "    return T@Z # Resultat :)\n",
    "\n"
   ]
  },
  {
   "cell_type": "code",
   "execution_count": 4,
   "metadata": {},
   "outputs": [],
   "source": [
    "#Prix Black_scholes d'un Call , pas de dividendes\n",
    "\n",
    "def Call_BS(s,K,r ,sigma , to ):\n",
    "    normale = sps.norm()\n",
    "    d1 = (log(s/K) + (r+ sigma**2 / 2)*to ) / (sigma * sqrt(to))\n",
    "    d2 = d1 - sigma * sqrt(to)\n",
    "    N1 = normale.cdf(d1)\n",
    "    N2 = normale.cdf(d2)\n",
    "    return s*N1 - K*exp(-r*to)*N2\n"
   ]
  },
  {
   "cell_type": "code",
   "execution_count": 12,
   "metadata": {},
   "outputs": [
    {
     "name": "stdout",
     "output_type": "stream",
     "text": [
      "pour S_0 =10  K = 5 , sigma =1 , r = 0.05 = T= 1 \n",
      "Estimateur Naif :  Prix 4.8841191158238555 Ecartype 7.036162423144364\n",
      "Estimateur Kemna-Vorst :  Prix 5.13897736369743 Ecartype 1.9363535377097454\n"
     ]
    }
   ],
   "source": [
    "def Kemna_Vorst() : #retourne la realisation du payoff de l'asiatique et de la variable de controle de KV \n",
    "    T = 1\n",
    "    n= 50 #nombre d'elements pour une seule realisation - 1/n est le pas d'integration \n",
    "    time = np.array([(2*k-1)*T/(2*n) for k in range(1,n+1)]) #mon vecteur temps (2*k-1)T/(2*n) \n",
    "    W = Brownian_simulator(time) # (WT/2n , ... W(2k-1)/2n)\n",
    "    f1 = s*np.exp((r - sigma**2/2)*time + sigma*W)\n",
    "    f2 = W.copy()\n",
    "    int1 , int2 = np.sum(f1)/n , np.sum(f2)/n\n",
    "    S2 = s* exp( -(r + sigma**2 /6 ) * T / 2 ) * exp( (r - sigma**2 / 6) * T + sigma * int2 / T )\n",
    "    X = max(int1 - K , 0)\n",
    "    Kv = max(S2 - K , 0)\n",
    "    return X , Kv\n",
    "\n",
    "N = 2**10 # Number of Simulations\n",
    "Naive , Naive2 , Kemna , Kemna2 = 0 , 0 , 0 , 0\n",
    "\n",
    "for _ in range(N):\n",
    "    X , Kv = Kemna_Vorst()\n",
    "    Kemna += X - Kv \n",
    "    Kemna2 += (X - Kv)**2\n",
    "    Naive += X\n",
    "    Naive2 += X**2\n",
    "\n",
    "\n",
    "Kemna *= exp(-r*T)/N\n",
    "Naive *= exp(-r*T)/N\n",
    "Kemna2 *= exp(-2*r*T)/N \n",
    "Naive2 *= exp(-2*r*T)/N\n",
    "Naive2 -= Naive**2\n",
    "Kemna2 -= Kemna**2\n",
    "\n",
    "Kemna += Call_BS(s* exp( -(r + sigma**2 /6 ) * T / 2 )   ,K,r,sigma / sqrt(3), to = T)\n",
    "\n",
    "print(f\"pour S_0 ={s}  K = {K} , sigma ={sigma} , r = {r}  , T= {T} \")\n",
    "\n",
    "print(f\"Estimateur Naif :  Prix {Naive} Ecartype {sqrt(Naive2)}\")\n",
    "print(f\"Estimateur Kemna-Vorst :  Prix {Kemna} Ecartype {sqrt(Kemna2)}\")\n",
    "\n",
    "#L'ecart type me parrait enorme , meme si les valeurs sont proches ... \n",
    "    "
   ]
  }
 ],
 "metadata": {
  "kernelspec": {
   "display_name": "Python 3",
   "language": "python",
   "name": "python3"
  },
  "language_info": {
   "codemirror_mode": {
    "name": "ipython",
    "version": 3
   },
   "file_extension": ".py",
   "mimetype": "text/x-python",
   "name": "python",
   "nbconvert_exporter": "python",
   "pygments_lexer": "ipython3",
   "version": "3.9.6"
  }
 },
 "nbformat": 4,
 "nbformat_minor": 2
}
